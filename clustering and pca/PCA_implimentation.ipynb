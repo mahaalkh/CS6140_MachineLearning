{
 "cells": [
  {
   "cell_type": "code",
   "execution_count": 2,
   "metadata": {
    "collapsed": false
   },
   "outputs": [
    {
     "name": "stdout",
     "output_type": "stream",
     "text": [
      "RESULT :  [[ -5.52377064e-01   5.07861349e-01  -7.13903100e-02   1.19706460e+00\n",
      "    2.33527119e-01   6.13690196e-01  -1.86287145e+00  -7.56375749e-01\n",
      "    6.37542362e-01  -1.90870585e-01   1.57190103e+00   1.16667788e+00\n",
      "   -1.06962204e+00  -7.30466903e-01  -1.12697193e+00  -2.71740447e-01\n",
      "   -2.42549767e-01   6.24022360e-01   2.84323751e-01  -2.74565520e-01\n",
      "    9.00981553e-01   1.17586255e+00  -3.95261868e-01  -1.77211134e-01\n",
      "   -1.18133248e+00  -6.06931100e-02  -1.24775753e-01  -5.27632300e-01\n",
      "    3.36352751e-01  -2.20978170e+00   1.67745475e+00  -1.95928419e-01\n",
      "    1.09884719e+00  -1.33198512e-01  -6.52681328e-01   2.79505770e-01\n",
      "    3.78516831e-01  -1.05262297e-01  -1.76447396e+00   5.76242439e-01\n",
      "    7.20776216e-01   1.25116001e-01   4.91919056e-01   2.58317490e-01\n",
      "   -1.28752803e+00  -5.55102952e-02   9.19037568e-03  -9.45239872e-02\n",
      "   -1.45797548e+00  -1.14034948e+00  -1.63470888e+00  -1.99106418e-01\n",
      "    5.71839482e-01   1.67141736e+00   5.16588414e-01   2.35393526e+00\n",
      "    1.31163979e+00  -8.31032681e-01   7.98777523e-01  -7.11121575e-01]\n",
      " [  8.49657370e-02   1.74472338e-02   1.53691751e-01   9.25946977e-02\n",
      "    1.20649205e-01  -4.72694852e-02   1.03962587e-01  -1.62753906e-01\n",
      "   -5.71858622e-02  -3.42633903e-02   1.10935003e-01   8.10958648e-02\n",
      "    5.03711213e-02   3.71363073e-04   4.20131257e-02  -1.07154001e-01\n",
      "   -5.55140833e-02   2.20255697e-02   6.20176824e-02  -1.02091711e-01\n",
      "   -7.79680603e-02  -7.55294579e-02   2.00766334e-02   1.11033166e-01\n",
      "    3.30115891e-02  -1.14748029e-01  -1.38112515e-01   6.88273710e-02\n",
      "   -5.97538941e-02  -1.23755151e-01  -5.51937730e-04   1.84856101e-01\n",
      "   -1.12903305e-01   1.18152187e-01   3.84386967e-03   1.31651136e-01\n",
      "   -3.06865037e-02  -1.42581361e-01  -2.03824921e-02   1.24471641e-03\n",
      "    1.32496995e-02  -5.90310545e-02  -3.97500681e-02  -7.73747709e-02\n",
      "    3.39156865e-02   4.07160161e-02   1.12820645e-01  -8.12595158e-03\n",
      "   -4.25204990e-02  -1.53206367e-03   1.34103470e-02  -1.15940916e-01\n",
      "   -4.20087102e-02  -1.65766441e-02  -1.37285571e-01   3.12664267e-02\n",
      "    1.00193524e-01   1.27030366e-01  -1.07935680e-01   2.38466531e-02]]\n"
     ]
    }
   ],
   "source": [
    "### by Maha Alkhairy\n",
    "## python 3.5 \n",
    "\n",
    "import scipy.io\n",
    "import numpy as np \n",
    "\n",
    "data = scipy.io.loadmat(\"HW3_Data/data.mat\")\n",
    "\n",
    "PCA_X = data['X_Question1']\n",
    "\n",
    "PCA_X = np.matrix(PCA_X)\n",
    "\n",
    "X_mean =  np.matrix.mean(PCA_X, 1)\n",
    "\n",
    "N =  np.shape(PCA_X)[1]\n",
    "\n",
    "X_mean_matrix = np.tile(X_mean, (1, N))\n",
    "\n",
    "X_X_mean = PCA_X - X_mean_matrix\n",
    "\n",
    "Ux, SIGMAx, V_Tx = np.linalg.svd(X_X_mean)\n",
    "\n",
    "\n",
    "Ux_d = Ux[:, :2]\n",
    " \n",
    "Y = np.transpose(Ux_d) * X_X_mean\n",
    "\n",
    "print(\"RESULT : \", Y)"
   ]
  },
  {
   "cell_type": "code",
   "execution_count": null,
   "metadata": {
    "collapsed": true
   },
   "outputs": [],
   "source": []
  },
  {
   "cell_type": "code",
   "execution_count": 4,
   "metadata": {
    "collapsed": false
   },
   "outputs": [
    {
     "name": "stdout",
     "output_type": "stream",
     "text": [
      "PCA results\n"
     ]
    },
    {
     "data": {
      "image/png": "[encoded data removed]",
      "text/plain": [
       "<matplotlib.figure.Figure at 0x1e15a3cf358>"
      ]
     },
     "metadata": {},
     "output_type": "display_data"
    }
   ],
   "source": [
    "import matplotlib.pyplot as plt\n",
    "from pandas import DataFrame\n",
    "\n",
    "df = DataFrame(np.transpose(Y), columns = ['x1', 'x2'])\n",
    "\n",
    "df.plot(kind='scatter', x = 'x1', y = 'x2')\n",
    "\n",
    "print(\"PCA results\")\n",
    "plt.show()"
   ]
  }
 ],
 "metadata": {
  "anaconda-cloud": {},
  "kernelspec": {
   "display_name": "Python [default]",
   "language": "python",
   "name": "python3"
  },
  "language_info": {
   "codemirror_mode": {
    "name": "ipython",
    "version": 3
   },
   "file_extension": ".py",
   "mimetype": "text/x-python",
   "name": "python",
   "nbconvert_exporter": "python",
   "pygments_lexer": "ipython3",
   "version": "3.5.2"
  }
 },
 "nbformat": 4,
 "nbformat_minor": 1
}
